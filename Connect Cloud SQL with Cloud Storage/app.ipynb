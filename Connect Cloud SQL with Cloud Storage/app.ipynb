{
 "cells": [
  {
   "cell_type": "code",
   "execution_count": null,
   "metadata": {},
   "outputs": [],
   "source": [
    "# Import python modules\n",
    "import pandas as pd\n",
    "import mysql.connector"
   ]
  },
  {
   "cell_type": "code",
   "execution_count": null,
   "metadata": {},
   "outputs": [],
   "source": [
    "# Establiching connection to database\n",
    "cnx = mysql.connector.connect(\n",
    "\tuser='root', \n",
    "\tpassword='Password1234', host='35.228.217.133', database='customers')\n",
    "\n",
    "cursor = cnx.cursor()"
   ]
  },
  {
   "cell_type": "code",
   "execution_count": null,
   "metadata": {},
   "outputs": [],
   "source": [
    "# Query table\n",
    "query = (\"select * from customer\")\n",
    "cursor.execute(query)\n",
    "\n",
    "# Retrieve data\n",
    "df = pd.DataFrame(cursor.fetchall())\n",
    "\n",
    "# Retrieve column names\n",
    "df.columns = cursor.column_names\n",
    "df.head()"
   ]
  },
  {
   "cell_type": "code",
   "execution_count": null,
   "metadata": {},
   "outputs": [],
   "source": [
    "#### Inserting new records into the SQL table through For Loop ####\n",
    "for i in range(len(new_cust)):\n",
    "    customer_id = str(new_cust['customer_id'].iloc[i])\n",
    "    age = int(new_cust['age'].iloc[i])\n",
    "    gender = str(new_cust['gender'].iloc[i])\n",
    "    home_airport = int(new_cust['home_airport'].iloc[i])\n",
    "    ticket_num = str(new_cust['ticket_num'].iloc[i])\n",
    "    passport_num = str(new_cust['passport_num'].iloc[i])\n",
    "    first_name = str(new_cust['first_name'].iloc[i])\n",
    "    last_name = str(new_cust['last_name'].iloc[i])\n",
    "    email_addr = str(new_cust['email'].iloc[i])\n",
    "    cust_profile = str(new_cust['cust_profile'].iloc[i])\n",
    "    tel = str(new_cust['tel'].iloc[i])\n",
    "    \n",
    "    query2 = (\"INSERT INTO customer (customer_id, age, gender, home_airport, ticket_num, passport_num, first_name,\"\n",
    "              \" last_name, email_addr, cust_profile, tel)\"\n",
    "              \"values (%s, %s, %s, %s, %s, %s, %s, %s, %s, %s, %s)\")\n",
    "    val = (customer_id, age, gender, home_airport, ticket_num, passport_num, first_name, last_name, email_addr, cust_profile, tel)\n",
    "    \n",
    "    cursor.execute(query2, val)\n",
    "    cnx.commit()"
   ]
  },
  {
   "cell_type": "code",
   "execution_count": null,
   "metadata": {},
   "outputs": [],
   "source": [
    "# Close SQL connection\n",
    "cursor.close() \n",
    "cnx.close()"
   ]
  }
 ],
 "metadata": {
  "language_info": {
   "name": "python"
  },
  "orig_nbformat": 4
 },
 "nbformat": 4,
 "nbformat_minor": 2
}
